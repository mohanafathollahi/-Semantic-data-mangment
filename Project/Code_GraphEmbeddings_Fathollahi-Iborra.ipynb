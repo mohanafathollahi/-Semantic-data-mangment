{
 "cells": [
  {
   "cell_type": "markdown",
   "id": "3c42bc9b",
   "metadata": {},
   "source": [
    "# Graph Embeddings - CareerVillage Dataset"
   ]
  },
  {
   "cell_type": "code",
   "execution_count": 2,
   "id": "16424ef8",
   "metadata": {},
   "outputs": [],
   "source": [
    "import os\n",
    "import sklearn\n",
    "import numpy as np\n",
    "import pandas as pd\n",
    "from sklearn import svm\n",
    "import networkx as nx\n",
    "from sklearn.manifold import TSNE\n",
    "import matplotlib.pyplot as plt\n",
    "\n",
    "from collections import Counter\n",
    "from node2vec import Node2Vec\n",
    "\n",
    "from sklearn.model_selection import train_test_split\n",
    "from sklearn.metrics import accuracy_score, f1_score, precision_score, recall_score, classification_report, confusion_matrix"
   ]
  },
  {
   "cell_type": "code",
   "execution_count": 3,
   "id": "99c1581c",
   "metadata": {},
   "outputs": [],
   "source": [
    "files = os.listdir(\"/home/mona/input\")\n",
    "#files = os.listdir(\"/Users/Paula/GoogleDrive/MIRI/Q4/SDM/Project/data-careervillage\")"
   ]
  },
  {
   "cell_type": "code",
   "execution_count": 5,
   "id": "8f4ea4ad",
   "metadata": {},
   "outputs": [
    {
     "name": "stdout",
     "output_type": "stream",
     "text": [
      "question_scores\n",
      "(23928, 2)\n",
      "school_memberships\n",
      "(5638, 2)\n",
      "answer_scores\n",
      "(51138, 2)\n",
      "tag_users\n",
      "(136663, 2)\n",
      "tags\n",
      "(16269, 2)\n",
      "group_memberships\n",
      "(1038, 2)\n",
      "comments\n",
      "(14966, 5)\n",
      "emails\n",
      "(1850101, 4)\n",
      "questions\n",
      "(23931, 5)\n",
      "answers\n",
      "(51123, 5)\n",
      "tag_questions\n",
      "(76553, 2)\n",
      "matches\n",
      "(4316275, 2)\n",
      "professionals\n",
      "(28152, 5)\n",
      "groups\n",
      "(49, 2)\n",
      "students\n",
      "(30971, 3)\n"
     ]
    }
   ],
   "source": [
    "data_parts = {}\n",
    "for file_name in files:\n",
    "    file_id = file_name.split(\".\")[0]\n",
    "    data_parts[file_id] = pd.read_csv(\"/home/mona/input\" +'/'+ file_name)\n",
    "    # data_parts[file_id] = pd.read_csv(\"/Users/Paula/GoogleDrive/MIRI/Q4/SDM/Project/data-careervillage\" +'/'+ file_name)\n",
    "    print(file_id)\n",
    "    print(data_parts[file_id].shape)"
   ]
  },
  {
   "cell_type": "code",
   "execution_count": 6,
   "id": "859bdc7d",
   "metadata": {},
   "outputs": [],
   "source": [
    "def add_nodes(G, df, col, type_name):\n",
    "    \"\"\"Add entities to G from the 'col' column of the 'df' DataFrame. The new nodes are annotated with 'type_name' label.\"\"\"\n",
    "    nodes = list(df[~df[col].isnull()][col].unique())\n",
    "    G.add_nodes_from([(n,dict(type=type_name)) for n in nodes])\n",
    "    print(\"Nodes (%s,%s) were added\" % (col, type_name))\n",
    "    \n",
    "def add_links(G, df, col1, col2, type_name):\n",
    "    \"\"\"Add links to G from the 'df' DataFrame. The new edges are annotated with 'type_name' label.\"\"\"\n",
    "    df_tmp = df[(~df[col1].isnull()) & (~df[col2].isnull())]\n",
    "    links = list(zip(df_tmp[col1],df_tmp[col2]))\n",
    "    G.add_edges_from([(src, trg, dict(type=type_name)) for src, trg in links])\n",
    "    print(\"Edges (%s->%s,%s) were added\" % (col1, col2, type_name))"
   ]
  },
  {
   "cell_type": "code",
   "execution_count": 7,
   "id": "7a393239",
   "metadata": {},
   "outputs": [],
   "source": [
    "G = nx.DiGraph()"
   ]
  },
  {
   "cell_type": "markdown",
   "id": "56ddd246",
   "metadata": {},
   "source": [
    "# Add nodes and edges"
   ]
  },
  {
   "cell_type": "code",
   "execution_count": 8,
   "id": "7e792a68",
   "metadata": {},
   "outputs": [
    {
     "name": "stdout",
     "output_type": "stream",
     "text": [
      "Nodes (answers_id,answer) were added\n",
      "Nodes (comments_id,comment) were added\n",
      "Nodes (groups_id,group) were added\n",
      "Nodes (groups_group_type,group_type) were added\n",
      "Nodes (professionals_id,professional) were added\n",
      "Nodes (professionals_industry,industry) were added\n",
      "Nodes (questions_id,question) were added\n",
      "Nodes (school_memberships_school_id,school) were added\n",
      "Nodes (students_id,student) were added\n",
      "Nodes (tags_tag_id,tag) were added\n"
     ]
    }
   ],
   "source": [
    "add_nodes(G, data_parts[\"answers\"], \"answers_id\", \"answer\")\n",
    "add_nodes(G, data_parts[\"comments\"], \"comments_id\", \"comment\")\n",
    "add_nodes(G, data_parts[\"groups\"], \"groups_id\", \"group\")\n",
    "add_nodes(G, data_parts[\"groups\"], \"groups_group_type\", \"group_type\")\n",
    "add_nodes(G, data_parts[\"professionals\"], \"professionals_id\", \"professional\")\n",
    "add_nodes(G, data_parts[\"professionals\"], \"professionals_industry\", \"industry\")\n",
    "add_nodes(G, data_parts[\"questions\"], \"questions_id\", \"question\")\n",
    "add_nodes(G, data_parts[\"school_memberships\"], \"school_memberships_school_id\", \"school\")\n",
    "add_nodes(G, data_parts[\"students\"], \"students_id\", \"student\")\n",
    "add_nodes(G, data_parts[\"tags\"], \"tags_tag_id\", \"tag\")"
   ]
  },
  {
   "cell_type": "code",
   "execution_count": 9,
   "id": "a756ac58",
   "metadata": {},
   "outputs": [
    {
     "name": "stdout",
     "output_type": "stream",
     "text": [
      "Edges (answers_id->answers_question_id,question) were added\n",
      "Edges (answers_id->answers_author_id,author) were added\n",
      "Edges (comments_id->comments_parent_content_id,parent_content) were added\n",
      "Edges (comments_id->comments_author_id,author) were added\n",
      "Edges (group_memberships_user_id->group_memberships_group_id,member) were added\n",
      "Edges (groups_id->groups_group_type,type) were added\n",
      "Edges (professionals_id->professionals_industry,type) were added\n",
      "Edges (questions_id->questions_author_id,author) were added\n",
      "Edges (school_memberships_user_id->school_memberships_school_id,member) were added\n",
      "Edges (tag_questions_question_id->tag_questions_tag_id,tag) were added\n",
      "Edges (tag_users_user_id->tag_users_tag_id,follow) were added\n"
     ]
    }
   ],
   "source": [
    "add_links(G, data_parts[\"answers\"], \"answers_id\", \"answers_question_id\", \"question\")\n",
    "add_links(G, data_parts[\"answers\"], \"answers_id\", \"answers_author_id\", \"author\")\n",
    "add_links(G, data_parts[\"comments\"], \"comments_id\", \"comments_parent_content_id\", \"parent_content\")\n",
    "add_links(G, data_parts[\"comments\"], \"comments_id\", \"comments_author_id\", \"author\")\n",
    "add_links(G, data_parts[\"group_memberships\"], \"group_memberships_user_id\", \"group_memberships_group_id\", \"member\")\n",
    "add_links(G, data_parts[\"groups\"], \"groups_id\", \"groups_group_type\", \"type\")\n",
    "add_links(G, data_parts[\"professionals\"], \"professionals_id\", \"professionals_industry\", \"type\")\n",
    "add_links(G, data_parts[\"questions\"], \"questions_id\", \"questions_author_id\", \"author\")\n",
    "add_links(G, data_parts[\"school_memberships\"], \"school_memberships_user_id\", \"school_memberships_school_id\", \"member\")\n",
    "add_links(G, data_parts[\"tag_questions\"], \"tag_questions_question_id\", \"tag_questions_tag_id\", \"tag\")\n",
    "add_links(G, data_parts[\"tag_users\"], \"tag_users_user_id\", \"tag_users_tag_id\", \"follow\")"
   ]
  },
  {
   "cell_type": "markdown",
   "id": "ff0cbb05",
   "metadata": {},
   "source": [
    "# Preprocess the data"
   ]
  },
  {
   "cell_type": "code",
   "execution_count": 10,
   "id": "84e17744",
   "metadata": {},
   "outputs": [],
   "source": [
    "students = data_parts[\"students\"]\n",
    "profs = data_parts[\"professionals\"]\n",
    "students = students[~students[\"students_location\"].isnull()]\n",
    "profs = profs[~profs[\"professionals_location\"].isnull()]"
   ]
  },
  {
   "cell_type": "code",
   "execution_count": 11,
   "id": "66b9ebc5",
   "metadata": {},
   "outputs": [],
   "source": [
    "locs1 = list(students[\"students_location\"])\n",
    "locs2 = list(profs[\"professionals_location\"])\n",
    "locs = []\n",
    "for loc in locs1+locs2: \n",
    "    locs.append(loc.lower())\n",
    "locs_unique = list(set(locs))"
   ]
  },
  {
   "cell_type": "code",
   "execution_count": 12,
   "id": "d69b3b6d",
   "metadata": {},
   "outputs": [],
   "source": [
    "new_edges = []\n",
    "new_nodes = []\n",
    "\n",
    "for loc in locs_unique:\n",
    "    loc_hierarchy = loc.split(\", \")\n",
    "    loc_nodes = [] # due to city name duplicates in the world\n",
    "    k = len(loc_hierarchy)\n",
    "    \n",
    "    for i in range(k):\n",
    "        loc_nodes.append('_'.join(loc_hierarchy[i:]))\n",
    "        \n",
    "    new_nodes += loc_nodes\n",
    "    loc_links = [(loc_nodes[i],loc_nodes[i+1], dict(type=\"location\"))  for i in range(k-1)]\n",
    "    new_edges += loc_links\n",
    "new_nodes = list(set(new_nodes))\n",
    "new_nodes = [(n, dict(type=\"location\")) for n in new_nodes] "
   ]
  },
  {
   "cell_type": "code",
   "execution_count": 13,
   "id": "d570fd60",
   "metadata": {},
   "outputs": [
    {
     "name": "stdout",
     "output_type": "stream",
     "text": [
      "7253 7160\n"
     ]
    }
   ],
   "source": [
    "G.add_nodes_from(new_nodes)\n",
    "G.add_edges_from(new_edges)\n",
    "print(len(new_edges), len(new_nodes))"
   ]
  },
  {
   "cell_type": "code",
   "execution_count": 14,
   "id": "bc2700a7",
   "metadata": {},
   "outputs": [
    {
     "name": "stderr",
     "output_type": "stream",
     "text": [
      "/tmp/ipykernel_762/1738426549.py:1: SettingWithCopyWarning: \n",
      "A value is trying to be set on a copy of a slice from a DataFrame.\n",
      "Try using .loc[row_indexer,col_indexer] = value instead\n",
      "\n",
      "See the caveats in the documentation: https://pandas.pydata.org/pandas-docs/stable/user_guide/indexing.html#returning-a-view-versus-a-copy\n",
      "  students[\"students_location\"] = students[\"students_location\"].apply(lambda x: \"_\".join(x.lower().split(\", \")))\n",
      "/tmp/ipykernel_762/1738426549.py:2: SettingWithCopyWarning: \n",
      "A value is trying to be set on a copy of a slice from a DataFrame.\n",
      "Try using .loc[row_indexer,col_indexer] = value instead\n",
      "\n",
      "See the caveats in the documentation: https://pandas.pydata.org/pandas-docs/stable/user_guide/indexing.html#returning-a-view-versus-a-copy\n",
      "  profs[\"professionals_location\"] = profs[\"professionals_location\"].apply(lambda x: \"_\".join(x.lower().split(\", \")))\n"
     ]
    }
   ],
   "source": [
    "students[\"students_location\"] = students[\"students_location\"].apply(lambda x: \"_\".join(x.lower().split(\", \")))\n",
    "profs[\"professionals_location\"] = profs[\"professionals_location\"].apply(lambda x: \"_\".join(x.lower().split(\", \")))"
   ]
  },
  {
   "cell_type": "code",
   "execution_count": 15,
   "id": "c064436c",
   "metadata": {},
   "outputs": [
    {
     "name": "stdout",
     "output_type": "stream",
     "text": [
      "Edges (students_id->students_location,location) were added\n",
      "Edges (professionals_id->professionals_location,location) were added\n"
     ]
    }
   ],
   "source": [
    "add_links(G, students, \"students_id\", \"students_location\", \"location\")\n",
    "add_links(G, profs, \"professionals_id\", \"professionals_location\", \"location\")"
   ]
  },
  {
   "cell_type": "code",
   "execution_count": 16,
   "id": "4ade5f9d",
   "metadata": {},
   "outputs": [],
   "source": [
    "def encode_graph(G):\n",
    "    \"\"\"Encode the nodes of the network into integers\"\"\"\n",
    "    nodes = [(n,d.get(\"type\",None)) for n, d in G.nodes(data=True)]\n",
    "    nodes_df = pd.DataFrame(nodes, columns=[\"id\",\"type\"]).reset_index()\n",
    "    node2idx = dict(zip(nodes_df[\"id\"],nodes_df[\"index\"]))\n",
    "    edges = [(node2idx[src], node2idx[trg], d.get(\"type\",None)) for src, trg, d in G.edges(data=True)]\n",
    "    edges_df = pd.DataFrame(edges, columns=[\"src\",\"trg\",\"type\"])\n",
    "    return nodes_df, edges_df"
   ]
  },
  {
   "cell_type": "code",
   "execution_count": 17,
   "id": "02b701f9",
   "metadata": {},
   "outputs": [
    {
     "name": "stdout",
     "output_type": "stream",
     "text": [
      "177890 461369\n",
      "174181 461369\n"
     ]
    }
   ],
   "source": [
    "print(G.number_of_nodes(), G.number_of_edges())\n",
    "G.remove_nodes_from(list(nx.isolates(G)))\n",
    "print(G.number_of_nodes(), G.number_of_edges())"
   ]
  },
  {
   "cell_type": "code",
   "execution_count": 18,
   "id": "279d313d",
   "metadata": {},
   "outputs": [
    {
     "data": {
      "text/plain": [
       "(174181, 461369)"
      ]
     },
     "execution_count": 18,
     "metadata": {},
     "output_type": "execute_result"
    }
   ],
   "source": [
    "nodes_df, edges_df = encode_graph(G)\n",
    "len(nodes_df), len(edges_df)"
   ]
  },
  {
   "cell_type": "markdown",
   "id": "053220e8",
   "metadata": {},
   "source": [
    "# Node Information"
   ]
  },
  {
   "cell_type": "code",
   "execution_count": 19,
   "id": "7c9b6b03",
   "metadata": {},
   "outputs": [
    {
     "name": "stdout",
     "output_type": "stream",
     "text": [
      "   index                                id    type\n",
      "0      0  4e5f01128cae4f6d8fd697cec5dca60c  answer\n",
      "1      1  ada720538c014e9b8a6dceed09385ee3  answer\n",
      "2      2  eaa66ef919bc408ab5296237440e323f  answer\n",
      "3      3  1a6b3749d391486c9e371fbd1e605014  answer\n",
      "4      4  5229c514000446d582050f89ebd4e184  answer\n",
      "answer          51123\n",
      "student         29460\n",
      "professional    27819\n",
      "question        23931\n",
      "comment         14966\n",
      "tag             14404\n",
      "location         7160\n",
      "school           2706\n",
      "industry         2470\n",
      "group              49\n",
      "group_type          7\n",
      "Name: type, dtype: int64\n"
     ]
    }
   ],
   "source": [
    "print(nodes_df.head())\n",
    "print(nodes_df[\"type\"].value_counts())\n",
    "nodes_df.to_csv(\"knowledge_graph_nodes.csv\", index=False)"
   ]
  },
  {
   "cell_type": "markdown",
   "id": "bdabfcf8",
   "metadata": {},
   "source": [
    "# Edge Information"
   ]
  },
  {
   "cell_type": "code",
   "execution_count": 20,
   "id": "5f7f3905",
   "metadata": {},
   "outputs": [
    {
     "name": "stdout",
     "output_type": "stream",
     "text": [
      "   src    trg      type\n",
      "0    0  96434  question\n",
      "1    0  68352    author\n",
      "2    1  96435  question\n",
      "3    1  83417    author\n",
      "4    2  96435  question\n",
      "follow            135907\n",
      "author             90020\n",
      "tag                76553\n",
      "location           60724\n",
      "question           51123\n",
      "type               25625\n",
      "parent_content     14966\n",
      "member              6451\n",
      "Name: type, dtype: int64\n"
     ]
    }
   ],
   "source": [
    "print(edges_df.head())\n",
    "print(edges_df[\"type\"].value_counts())\n",
    "edges_df[[\"src\",\"trg\"]].to_csv(\"knowledge_graph_edges.csv\", index=False, header=False, sep=\" \")"
   ]
  },
  {
   "cell_type": "markdown",
   "id": "ba6b2850",
   "metadata": {},
   "source": [
    "# Deepwalk"
   ]
  },
  {
   "cell_type": "code",
   "execution_count": 21,
   "id": "7df83073",
   "metadata": {},
   "outputs": [
    {
     "data": {
      "text/plain": [
       "461369"
      ]
     },
     "execution_count": 21,
     "metadata": {},
     "output_type": "execute_result"
    }
   ],
   "source": [
    "edge_list = list(zip(edges_df[\"src\"],edges_df[\"trg\"]))\n",
    "len(edge_list)"
   ]
  },
  {
   "cell_type": "code",
   "execution_count": 22,
   "id": "287e619a",
   "metadata": {},
   "outputs": [
    {
     "data": {
      "text/plain": [
       "(174181, 461369)"
      ]
     },
     "execution_count": 22,
     "metadata": {},
     "output_type": "execute_result"
    }
   ],
   "source": [
    "KG = nx.DiGraph(edge_list)\n",
    "KG.number_of_nodes(), KG.number_of_edges()"
   ]
  },
  {
   "cell_type": "code",
   "execution_count": 23,
   "id": "dfa9ce2a",
   "metadata": {},
   "outputs": [],
   "source": [
    "from ge import DeepWalk"
   ]
  },
  {
   "cell_type": "code",
   "execution_count": 24,
   "id": "6bc6d32f",
   "metadata": {},
   "outputs": [
    {
     "name": "stderr",
     "output_type": "stream",
     "text": [
      "[Parallel(n_jobs=1)]: Using backend SequentialBackend with 1 concurrent workers.\n",
      "[Parallel(n_jobs=1)]: Done   1 out of   1 | elapsed:    9.1s finished\n"
     ]
    }
   ],
   "source": [
    "model_dw = DeepWalk(KG,walk_length=5,num_walks=10,workers=1)#init model"
   ]
  },
  {
   "cell_type": "code",
   "execution_count": 25,
   "id": "cc680a8a",
   "metadata": {},
   "outputs": [
    {
     "name": "stdout",
     "output_type": "stream",
     "text": [
      "Learning embedding vectors...\n",
      "Learning embedding vectors done!\n"
     ]
    },
    {
     "data": {
      "text/plain": [
       "<gensim.models.word2vec.Word2Vec at 0x7f64ea45e4f0>"
      ]
     },
     "execution_count": 25,
     "metadata": {},
     "output_type": "execute_result"
    }
   ],
   "source": [
    "model_dw.train(embed_size=10, window_size=3,iter=3)# train model"
   ]
  },
  {
   "cell_type": "code",
   "execution_count": 26,
   "id": "8bbfede5",
   "metadata": {},
   "outputs": [],
   "source": [
    "embedding_dw = model_dw.get_embeddings()"
   ]
  },
  {
   "cell_type": "code",
   "execution_count": 27,
   "id": "ec611105",
   "metadata": {},
   "outputs": [],
   "source": [
    "nodes_df_dw = nodes_df.copy()"
   ]
  },
  {
   "cell_type": "code",
   "execution_count": 28,
   "id": "b1b4f4ce",
   "metadata": {},
   "outputs": [],
   "source": [
    "nodes_df_dw[\"vector\"]=nodes_df_dw.index.map(embedding_dw)"
   ]
  },
  {
   "cell_type": "code",
   "execution_count": 30,
   "id": "fe4f26c5",
   "metadata": {},
   "outputs": [],
   "source": [
    "split_df_nodes_dw = pd.DataFrame(nodes_df_dw['vector'].tolist())"
   ]
  },
  {
   "cell_type": "code",
   "execution_count": 31,
   "id": "535c36a7",
   "metadata": {},
   "outputs": [],
   "source": [
    "nodes_df_dw = pd.concat([split_df_nodes_dw , nodes_df_dw[\"type\"], nodes_df_dw[\"index\"]], axis=1)"
   ]
  },
  {
   "cell_type": "code",
   "execution_count": 106,
   "id": "55130134",
   "metadata": {},
   "outputs": [],
   "source": [
    "selected_stu_prof= nodes_df_dw.loc[(nodes_df_dw[\"type\"] == \"student\") | (nodes_df_dw[\"type\"] == \"professional\")]"
   ]
  },
  {
   "cell_type": "code",
   "execution_count": 38,
   "id": "cf83f80e",
   "metadata": {},
   "outputs": [
    {
     "name": "stderr",
     "output_type": "stream",
     "text": [
      "/tmp/ipykernel_762/3779151144.py:1: SettingWithCopyWarning: \n",
      "A value is trying to be set on a copy of a slice from a DataFrame.\n",
      "Try using .loc[row_indexer,col_indexer] = value instead\n",
      "\n",
      "See the caveats in the documentation: https://pandas.pydata.org/pandas-docs/stable/user_guide/indexing.html#returning-a-view-versus-a-copy\n",
      "  selected_stu_prof[\"type\"] = selected_stu_prof[\"type\"].astype(str)\n"
     ]
    }
   ],
   "source": [
    "selected_stu_prof[\"type\"] = selected_stu_prof[\"type\"].astype(str)"
   ]
  },
  {
   "cell_type": "code",
   "execution_count": 35,
   "id": "74a99c14",
   "metadata": {},
   "outputs": [],
   "source": [
    "train_dw, test_dw = train_test_split(selected_stu_prof, test_size=0.2, random_state=42, shuffle=True)"
   ]
  },
  {
   "cell_type": "code",
   "execution_count": 36,
   "id": "166ac204",
   "metadata": {},
   "outputs": [
    {
     "name": "stdout",
     "output_type": "stream",
     "text": [
      "45823\n",
      "11456\n"
     ]
    }
   ],
   "source": [
    "print(train_dw.shape[0])\n",
    "print(test_dw.shape[0])"
   ]
  },
  {
   "cell_type": "code",
   "execution_count": 45,
   "id": "79b0c21b",
   "metadata": {},
   "outputs": [
    {
     "data": {
      "text/html": [
       "<style>#sk-container-id-1 {color: black;background-color: white;}#sk-container-id-1 pre{padding: 0;}#sk-container-id-1 div.sk-toggleable {background-color: white;}#sk-container-id-1 label.sk-toggleable__label {cursor: pointer;display: block;width: 100%;margin-bottom: 0;padding: 0.3em;box-sizing: border-box;text-align: center;}#sk-container-id-1 label.sk-toggleable__label-arrow:before {content: \"▸\";float: left;margin-right: 0.25em;color: #696969;}#sk-container-id-1 label.sk-toggleable__label-arrow:hover:before {color: black;}#sk-container-id-1 div.sk-estimator:hover label.sk-toggleable__label-arrow:before {color: black;}#sk-container-id-1 div.sk-toggleable__content {max-height: 0;max-width: 0;overflow: hidden;text-align: left;background-color: #f0f8ff;}#sk-container-id-1 div.sk-toggleable__content pre {margin: 0.2em;color: black;border-radius: 0.25em;background-color: #f0f8ff;}#sk-container-id-1 input.sk-toggleable__control:checked~div.sk-toggleable__content {max-height: 200px;max-width: 100%;overflow: auto;}#sk-container-id-1 input.sk-toggleable__control:checked~label.sk-toggleable__label-arrow:before {content: \"▾\";}#sk-container-id-1 div.sk-estimator input.sk-toggleable__control:checked~label.sk-toggleable__label {background-color: #d4ebff;}#sk-container-id-1 div.sk-label input.sk-toggleable__control:checked~label.sk-toggleable__label {background-color: #d4ebff;}#sk-container-id-1 input.sk-hidden--visually {border: 0;clip: rect(1px 1px 1px 1px);clip: rect(1px, 1px, 1px, 1px);height: 1px;margin: -1px;overflow: hidden;padding: 0;position: absolute;width: 1px;}#sk-container-id-1 div.sk-estimator {font-family: monospace;background-color: #f0f8ff;border: 1px dotted black;border-radius: 0.25em;box-sizing: border-box;margin-bottom: 0.5em;}#sk-container-id-1 div.sk-estimator:hover {background-color: #d4ebff;}#sk-container-id-1 div.sk-parallel-item::after {content: \"\";width: 100%;border-bottom: 1px solid gray;flex-grow: 1;}#sk-container-id-1 div.sk-label:hover label.sk-toggleable__label {background-color: #d4ebff;}#sk-container-id-1 div.sk-serial::before {content: \"\";position: absolute;border-left: 1px solid gray;box-sizing: border-box;top: 0;bottom: 0;left: 50%;z-index: 0;}#sk-container-id-1 div.sk-serial {display: flex;flex-direction: column;align-items: center;background-color: white;padding-right: 0.2em;padding-left: 0.2em;position: relative;}#sk-container-id-1 div.sk-item {position: relative;z-index: 1;}#sk-container-id-1 div.sk-parallel {display: flex;align-items: stretch;justify-content: center;background-color: white;position: relative;}#sk-container-id-1 div.sk-item::before, #sk-container-id-1 div.sk-parallel-item::before {content: \"\";position: absolute;border-left: 1px solid gray;box-sizing: border-box;top: 0;bottom: 0;left: 50%;z-index: -1;}#sk-container-id-1 div.sk-parallel-item {display: flex;flex-direction: column;z-index: 1;position: relative;background-color: white;}#sk-container-id-1 div.sk-parallel-item:first-child::after {align-self: flex-end;width: 50%;}#sk-container-id-1 div.sk-parallel-item:last-child::after {align-self: flex-start;width: 50%;}#sk-container-id-1 div.sk-parallel-item:only-child::after {width: 0;}#sk-container-id-1 div.sk-dashed-wrapped {border: 1px dashed gray;margin: 0 0.4em 0.5em 0.4em;box-sizing: border-box;padding-bottom: 0.4em;background-color: white;}#sk-container-id-1 div.sk-label label {font-family: monospace;font-weight: bold;display: inline-block;line-height: 1.2em;}#sk-container-id-1 div.sk-label-container {text-align: center;}#sk-container-id-1 div.sk-container {/* jupyter's `normalize.less` sets `[hidden] { display: none; }` but bootstrap.min.css set `[hidden] { display: none !important; }` so we also need the `!important` here to be able to override the default hidden behavior on the sphinx rendered scikit-learn.org. See: https://github.com/scikit-learn/scikit-learn/issues/21755 */display: inline-block !important;position: relative;}#sk-container-id-1 div.sk-text-repr-fallback {display: none;}</style><div id=\"sk-container-id-1\" class=\"sk-top-container\"><div class=\"sk-text-repr-fallback\"><pre>SVC()</pre><b>In a Jupyter environment, please rerun this cell to show the HTML representation or trust the notebook. <br />On GitHub, the HTML representation is unable to render, please try loading this page with nbviewer.org.</b></div><div class=\"sk-container\" hidden><div class=\"sk-item\"><div class=\"sk-estimator sk-toggleable\"><input class=\"sk-toggleable__control sk-hidden--visually\" id=\"sk-estimator-id-1\" type=\"checkbox\" checked><label for=\"sk-estimator-id-1\" class=\"sk-toggleable__label sk-toggleable__label-arrow\">SVC</label><div class=\"sk-toggleable__content\"><pre>SVC()</pre></div></div></div></div></div>"
      ],
      "text/plain": [
       "SVC()"
      ]
     },
     "execution_count": 45,
     "metadata": {},
     "output_type": "execute_result"
    }
   ],
   "source": [
    "clf = svm.SVC()\n",
    "clf.fit(train_dw.iloc[:,0:10], train_dw.iloc[:,10])"
   ]
  },
  {
   "cell_type": "code",
   "execution_count": 46,
   "id": "f514320e",
   "metadata": {},
   "outputs": [],
   "source": [
    "prediction_tag = clf.predict(test_dw.iloc[:,0:10]) "
   ]
  },
  {
   "cell_type": "code",
   "execution_count": 49,
   "id": "16d0059a",
   "metadata": {},
   "outputs": [
    {
     "name": "stdout",
     "output_type": "stream",
     "text": [
      "87.05\n"
     ]
    }
   ],
   "source": [
    "Accuracy_Score = accuracy_score(test_dw.iloc[:,10], prediction_tag)\n",
    "print(round(Accuracy_Score*100,2))"
   ]
  },
  {
   "cell_type": "code",
   "execution_count": 114,
   "id": "a0fc9621",
   "metadata": {},
   "outputs": [],
   "source": [
    "from sklearn.metrics import plot_confusion_matrix"
   ]
  },
  {
   "cell_type": "code",
   "execution_count": 115,
   "id": "234be8e9",
   "metadata": {},
   "outputs": [
    {
     "name": "stderr",
     "output_type": "stream",
     "text": [
      "/home/mona/.local/lib/python3.8/site-packages/scikit_learn-1.1.1-py3.8-linux-x86_64.egg/sklearn/utils/deprecation.py:87: FutureWarning: Function plot_confusion_matrix is deprecated; Function `plot_confusion_matrix` is deprecated in 1.0 and will be removed in 1.2. Use one of the class methods: ConfusionMatrixDisplay.from_predictions or ConfusionMatrixDisplay.from_estimator.\n",
      "  warnings.warn(msg, category=FutureWarning)\n"
     ]
    },
    {
     "data": {
      "image/png": "[encoded data removed]",
      "text/plain": [
       "<Figure size 432x288 with 2 Axes>"
      ]
     },
     "metadata": {
      "needs_background": "light"
     },
     "output_type": "display_data"
    }
   ],
   "source": [
    "# Generate confusion matrix\n",
    "matrix = plot_confusion_matrix(clf, test_dw.iloc[:,0:10], test_dw.iloc[:,10],\n",
    "                                 cmap=plt.cm.Blues,\n",
    "                                 normalize='true')\n",
    "plt.title('Confusion matrix for our classifier')\n",
    "plt.show(matrix)\n",
    "plt.show()"
   ]
  },
  {
   "cell_type": "markdown",
   "id": "f03c76f4",
   "metadata": {},
   "source": [
    "# Node2vec"
   ]
  },
  {
   "cell_type": "code",
   "execution_count": 90,
   "id": "f174a772",
   "metadata": {},
   "outputs": [],
   "source": [
    "from ge import Node2Vec"
   ]
  },
  {
   "cell_type": "code",
   "execution_count": 91,
   "id": "2e378493",
   "metadata": {},
   "outputs": [],
   "source": [
    "df_nodes_n2v = nodes_df.copy()"
   ]
  },
  {
   "cell_type": "code",
   "execution_count": 92,
   "id": "d3a9ba9d",
   "metadata": {},
   "outputs": [
    {
     "name": "stdout",
     "output_type": "stream",
     "text": [
      "Preprocess transition probs...\n"
     ]
    },
    {
     "name": "stderr",
     "output_type": "stream",
     "text": [
      "[Parallel(n_jobs=1)]: Using backend SequentialBackend with 1 concurrent workers.\n",
      "[Parallel(n_jobs=1)]: Done   1 out of   1 | elapsed:   12.2s finished\n"
     ]
    },
    {
     "name": "stdout",
     "output_type": "stream",
     "text": [
      "Learning embedding vectors...\n",
      "Learning embedding vectors done!\n"
     ]
    }
   ],
   "source": [
    "model_nv = Node2Vec(KG, walk_length=5, num_walks=10, workers=1, p=1, q=2, use_rejection_sampling=0)\n",
    "model_nv.train(embed_size=128, window_size=3, iter=3)\n",
    "embeddings_nv = model_nv.get_embeddings()"
   ]
  },
  {
   "cell_type": "code",
   "execution_count": 93,
   "id": "4a072cc8",
   "metadata": {},
   "outputs": [],
   "source": [
    "df_nodes_n2v[\"vector\"]=df_nodes_n2v.index.map(embeddings_nv)"
   ]
  },
  {
   "cell_type": "code",
   "execution_count": 96,
   "id": "3b05becd",
   "metadata": {},
   "outputs": [],
   "source": [
    "split_df_nodes_n2v = pd.DataFrame(df_nodes_n2v['vector'].tolist())"
   ]
  },
  {
   "cell_type": "code",
   "execution_count": 97,
   "id": "abbad819",
   "metadata": {},
   "outputs": [],
   "source": [
    "nodes_df_n2v = pd.concat([split_df_nodes_n2v , df_nodes_n2v[\"type\"], df_nodes_n2v[\"index\"]], axis=1)"
   ]
  },
  {
   "cell_type": "code",
   "execution_count": 99,
   "id": "c1d6d746",
   "metadata": {},
   "outputs": [
    {
     "data": {
      "text/plain": [
       "57279"
      ]
     },
     "execution_count": 99,
     "metadata": {},
     "output_type": "execute_result"
    }
   ],
   "source": [
    "selected_stu_prof_nv= nodes_df_n2v.loc[(nodes_df_n2v[\"type\"] == \"student\") | (nodes_df_n2v[\"type\"] == \"professional\")]\n",
    "selected_stu_prof_nv.shape[0]"
   ]
  },
  {
   "cell_type": "code",
   "execution_count": 100,
   "id": "c4ade689",
   "metadata": {},
   "outputs": [],
   "source": [
    "train_nv, test_nv = train_test_split(selected_stu_prof_nv, test_size=0.2, random_state=42, shuffle=True)"
   ]
  },
  {
   "cell_type": "code",
   "execution_count": 103,
   "id": "830a166a",
   "metadata": {},
   "outputs": [
    {
     "data": {
      "text/html": [
       "<style>#sk-container-id-2 {color: black;background-color: white;}#sk-container-id-2 pre{padding: 0;}#sk-container-id-2 div.sk-toggleable {background-color: white;}#sk-container-id-2 label.sk-toggleable__label {cursor: pointer;display: block;width: 100%;margin-bottom: 0;padding: 0.3em;box-sizing: border-box;text-align: center;}#sk-container-id-2 label.sk-toggleable__label-arrow:before {content: \"▸\";float: left;margin-right: 0.25em;color: #696969;}#sk-container-id-2 label.sk-toggleable__label-arrow:hover:before {color: black;}#sk-container-id-2 div.sk-estimator:hover label.sk-toggleable__label-arrow:before {color: black;}#sk-container-id-2 div.sk-toggleable__content {max-height: 0;max-width: 0;overflow: hidden;text-align: left;background-color: #f0f8ff;}#sk-container-id-2 div.sk-toggleable__content pre {margin: 0.2em;color: black;border-radius: 0.25em;background-color: #f0f8ff;}#sk-container-id-2 input.sk-toggleable__control:checked~div.sk-toggleable__content {max-height: 200px;max-width: 100%;overflow: auto;}#sk-container-id-2 input.sk-toggleable__control:checked~label.sk-toggleable__label-arrow:before {content: \"▾\";}#sk-container-id-2 div.sk-estimator input.sk-toggleable__control:checked~label.sk-toggleable__label {background-color: #d4ebff;}#sk-container-id-2 div.sk-label input.sk-toggleable__control:checked~label.sk-toggleable__label {background-color: #d4ebff;}#sk-container-id-2 input.sk-hidden--visually {border: 0;clip: rect(1px 1px 1px 1px);clip: rect(1px, 1px, 1px, 1px);height: 1px;margin: -1px;overflow: hidden;padding: 0;position: absolute;width: 1px;}#sk-container-id-2 div.sk-estimator {font-family: monospace;background-color: #f0f8ff;border: 1px dotted black;border-radius: 0.25em;box-sizing: border-box;margin-bottom: 0.5em;}#sk-container-id-2 div.sk-estimator:hover {background-color: #d4ebff;}#sk-container-id-2 div.sk-parallel-item::after {content: \"\";width: 100%;border-bottom: 1px solid gray;flex-grow: 1;}#sk-container-id-2 div.sk-label:hover label.sk-toggleable__label {background-color: #d4ebff;}#sk-container-id-2 div.sk-serial::before {content: \"\";position: absolute;border-left: 1px solid gray;box-sizing: border-box;top: 0;bottom: 0;left: 50%;z-index: 0;}#sk-container-id-2 div.sk-serial {display: flex;flex-direction: column;align-items: center;background-color: white;padding-right: 0.2em;padding-left: 0.2em;position: relative;}#sk-container-id-2 div.sk-item {position: relative;z-index: 1;}#sk-container-id-2 div.sk-parallel {display: flex;align-items: stretch;justify-content: center;background-color: white;position: relative;}#sk-container-id-2 div.sk-item::before, #sk-container-id-2 div.sk-parallel-item::before {content: \"\";position: absolute;border-left: 1px solid gray;box-sizing: border-box;top: 0;bottom: 0;left: 50%;z-index: -1;}#sk-container-id-2 div.sk-parallel-item {display: flex;flex-direction: column;z-index: 1;position: relative;background-color: white;}#sk-container-id-2 div.sk-parallel-item:first-child::after {align-self: flex-end;width: 50%;}#sk-container-id-2 div.sk-parallel-item:last-child::after {align-self: flex-start;width: 50%;}#sk-container-id-2 div.sk-parallel-item:only-child::after {width: 0;}#sk-container-id-2 div.sk-dashed-wrapped {border: 1px dashed gray;margin: 0 0.4em 0.5em 0.4em;box-sizing: border-box;padding-bottom: 0.4em;background-color: white;}#sk-container-id-2 div.sk-label label {font-family: monospace;font-weight: bold;display: inline-block;line-height: 1.2em;}#sk-container-id-2 div.sk-label-container {text-align: center;}#sk-container-id-2 div.sk-container {/* jupyter's `normalize.less` sets `[hidden] { display: none; }` but bootstrap.min.css set `[hidden] { display: none !important; }` so we also need the `!important` here to be able to override the default hidden behavior on the sphinx rendered scikit-learn.org. See: https://github.com/scikit-learn/scikit-learn/issues/21755 */display: inline-block !important;position: relative;}#sk-container-id-2 div.sk-text-repr-fallback {display: none;}</style><div id=\"sk-container-id-2\" class=\"sk-top-container\"><div class=\"sk-text-repr-fallback\"><pre>SVC()</pre><b>In a Jupyter environment, please rerun this cell to show the HTML representation or trust the notebook. <br />On GitHub, the HTML representation is unable to render, please try loading this page with nbviewer.org.</b></div><div class=\"sk-container\" hidden><div class=\"sk-item\"><div class=\"sk-estimator sk-toggleable\"><input class=\"sk-toggleable__control sk-hidden--visually\" id=\"sk-estimator-id-2\" type=\"checkbox\" checked><label for=\"sk-estimator-id-2\" class=\"sk-toggleable__label sk-toggleable__label-arrow\">SVC</label><div class=\"sk-toggleable__content\"><pre>SVC()</pre></div></div></div></div></div>"
      ],
      "text/plain": [
       "SVC()"
      ]
     },
     "execution_count": 103,
     "metadata": {},
     "output_type": "execute_result"
    }
   ],
   "source": [
    "clf_nv = svm.SVC()\n",
    "clf_nv.fit(train_nv.iloc[:,0:128], train_nv.iloc[:,128])"
   ]
  },
  {
   "cell_type": "code",
   "execution_count": 104,
   "id": "d362c5fb",
   "metadata": {},
   "outputs": [],
   "source": [
    "prediction_tag_nv = clf_nv.predict(test_nv.iloc[:,0:128]) "
   ]
  },
  {
   "cell_type": "code",
   "execution_count": 105,
   "id": "73725bab",
   "metadata": {},
   "outputs": [
    {
     "name": "stdout",
     "output_type": "stream",
     "text": [
      "74.56\n"
     ]
    }
   ],
   "source": [
    "Accuracy_Score_nv = accuracy_score(test_nv.iloc[:,128], prediction_tag_nv)\n",
    "print(round(Accuracy_Score_nv*100,2))"
   ]
  },
  {
   "cell_type": "markdown",
   "id": "cfd75f7b",
   "metadata": {},
   "source": [
    "# Dimension reduction - visualization"
   ]
  },
  {
   "cell_type": "code",
   "execution_count": 107,
   "id": "a238f343",
   "metadata": {},
   "outputs": [],
   "source": [
    "def plot_embeddings(embeddings,x,y):\n",
    "    emb_list = []\n",
    "    for k in X:\n",
    "        emb_list.append(embeddings[k])\n",
    "    emb_list = np.array(emb_list)\n",
    "\n",
    "\n",
    "\n",
    "    model = TSNE(n_components=2)\n",
    "    node_pos = model.fit_transform(emb_list)\n",
    "\n",
    "    color_idx = {}\n",
    "    for i in range(len(X)):\n",
    "        color_idx.setdefault(Y[i][0], [])\n",
    "\n",
    "        color_idx[Y[i][0]].append(i)\n",
    "\n",
    "    for c, idx in color_idx.items():\n",
    "        plt.scatter(node_pos[idx, 0], node_pos[idx, 1], label=c)  # c=node_colors)\n",
    "\n",
    "    plt.legend()\n",
    "\n",
    "    plt.show()\n"
   ]
  },
  {
   "cell_type": "code",
   "execution_count": 117,
   "id": "09ea5c55",
   "metadata": {},
   "outputs": [
    {
     "name": "stderr",
     "output_type": "stream",
     "text": [
      "/home/mona/.local/lib/python3.8/site-packages/scikit_learn-1.1.1-py3.8-linux-x86_64.egg/sklearn/manifold/_t_sne.py:795: FutureWarning: The default initialization in TSNE will change from 'random' to 'pca' in 1.2.\n",
      "  warnings.warn(\n",
      "/home/mona/.local/lib/python3.8/site-packages/scikit_learn-1.1.1-py3.8-linux-x86_64.egg/sklearn/manifold/_t_sne.py:805: FutureWarning: The default learning rate in TSNE will change from 200.0 to 'auto' in 1.2.\n",
      "  warnings.warn(\n"
     ]
    },
    {
     "data": {
      "image/png": "[encoded data removed]",
      "text/plain": [
       "<Figure size 432x288 with 1 Axes>"
      ]
     },
     "metadata": {
      "needs_background": "light"
     },
     "output_type": "display_data"
    }
   ],
   "source": [
    "plot_embeddings(embedding_dw,list(train_dw.iloc[:,11])[0:3000],list(train_dw.iloc[:,10])[0:3000])"
   ]
  }
 ],
 "metadata": {
  "kernelspec": {
   "display_name": "Python 3",
   "language": "python",
   "name": "python3"
  },
  "language_info": {
   "codemirror_mode": {
    "name": "ipython",
    "version": 3
   },
   "file_extension": ".py",
   "mimetype": "text/x-python",
   "name": "python",
   "nbconvert_exporter": "python",
   "pygments_lexer": "ipython3",
   "version": "3.8.8"
  }
 },
 "nbformat": 4,
 "nbformat_minor": 5
}
